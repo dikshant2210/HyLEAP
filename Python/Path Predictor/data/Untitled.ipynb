{
 "cells": [
  {
   "cell_type": "code",
   "execution_count": 1,
   "metadata": {},
   "outputs": [],
   "source": [
    "import pandas as pd"
   ]
  },
  {
   "cell_type": "code",
   "execution_count": 2,
   "metadata": {},
   "outputs": [
    {
     "data": {
      "text/html": [
       "<div>\n",
       "<style scoped>\n",
       "    .dataframe tbody tr th:only-of-type {\n",
       "        vertical-align: middle;\n",
       "    }\n",
       "\n",
       "    .dataframe tbody tr th {\n",
       "        vertical-align: top;\n",
       "    }\n",
       "\n",
       "    .dataframe thead th {\n",
       "        text-align: right;\n",
       "    }\n",
       "</style>\n",
       "<table border=\"1\" class=\"dataframe\">\n",
       "  <thead>\n",
       "    <tr style=\"text-align: right;\">\n",
       "      <th></th>\n",
       "      <th>Frame</th>\n",
       "      <th>Height</th>\n",
       "      <th>Mid_x</th>\n",
       "      <th>Mid_y</th>\n",
       "      <th>Occlusion</th>\n",
       "      <th>Pedestrian</th>\n",
       "      <th>Start_x</th>\n",
       "      <th>Start_y</th>\n",
       "      <th>Video</th>\n",
       "      <th>Width</th>\n",
       "      <th>Labeled</th>\n",
       "      <th>Past_x</th>\n",
       "      <th>Past_y</th>\n",
       "      <th>Future_x</th>\n",
       "      <th>Future_y</th>\n",
       "      <th>detection_length</th>\n",
       "    </tr>\n",
       "  </thead>\n",
       "  <tbody>\n",
       "    <tr>\n",
       "      <th>0</th>\n",
       "      <td>0.0</td>\n",
       "      <td>78.666667</td>\n",
       "      <td>333.333333</td>\n",
       "      <td>526.666667</td>\n",
       "      <td>0.0</td>\n",
       "      <td>1.0</td>\n",
       "      <td>310.666667</td>\n",
       "      <td>487.333333</td>\n",
       "      <td>video0001.mp4</td>\n",
       "      <td>45.333333</td>\n",
       "      <td>0</td>\n",
       "      <td>0</td>\n",
       "      <td>0</td>\n",
       "      <td>0</td>\n",
       "      <td>0</td>\n",
       "      <td>0</td>\n",
       "    </tr>\n",
       "    <tr>\n",
       "      <th>1</th>\n",
       "      <td>1.0</td>\n",
       "      <td>79.333333</td>\n",
       "      <td>331.333333</td>\n",
       "      <td>526.666667</td>\n",
       "      <td>0.0</td>\n",
       "      <td>1.0</td>\n",
       "      <td>308.000000</td>\n",
       "      <td>487.333333</td>\n",
       "      <td>video0001.mp4</td>\n",
       "      <td>46.666667</td>\n",
       "      <td>0</td>\n",
       "      <td>0</td>\n",
       "      <td>0</td>\n",
       "      <td>0</td>\n",
       "      <td>0</td>\n",
       "      <td>1</td>\n",
       "    </tr>\n",
       "    <tr>\n",
       "      <th>2</th>\n",
       "      <td>2.0</td>\n",
       "      <td>80.000000</td>\n",
       "      <td>330.000000</td>\n",
       "      <td>528.000000</td>\n",
       "      <td>0.0</td>\n",
       "      <td>1.0</td>\n",
       "      <td>306.000000</td>\n",
       "      <td>488.000000</td>\n",
       "      <td>video0001.mp4</td>\n",
       "      <td>48.000000</td>\n",
       "      <td>0</td>\n",
       "      <td>0</td>\n",
       "      <td>0</td>\n",
       "      <td>0</td>\n",
       "      <td>0</td>\n",
       "      <td>2</td>\n",
       "    </tr>\n",
       "    <tr>\n",
       "      <th>3</th>\n",
       "      <td>3.0</td>\n",
       "      <td>80.000000</td>\n",
       "      <td>328.000000</td>\n",
       "      <td>528.000000</td>\n",
       "      <td>0.0</td>\n",
       "      <td>1.0</td>\n",
       "      <td>303.333333</td>\n",
       "      <td>488.000000</td>\n",
       "      <td>video0001.mp4</td>\n",
       "      <td>49.333333</td>\n",
       "      <td>0</td>\n",
       "      <td>0</td>\n",
       "      <td>0</td>\n",
       "      <td>0</td>\n",
       "      <td>0</td>\n",
       "      <td>3</td>\n",
       "    </tr>\n",
       "    <tr>\n",
       "      <th>4</th>\n",
       "      <td>4.0</td>\n",
       "      <td>80.666667</td>\n",
       "      <td>325.333333</td>\n",
       "      <td>528.000000</td>\n",
       "      <td>0.0</td>\n",
       "      <td>1.0</td>\n",
       "      <td>300.666667</td>\n",
       "      <td>488.000000</td>\n",
       "      <td>video0001.mp4</td>\n",
       "      <td>50.000000</td>\n",
       "      <td>0</td>\n",
       "      <td>0</td>\n",
       "      <td>0</td>\n",
       "      <td>0</td>\n",
       "      <td>0</td>\n",
       "      <td>4</td>\n",
       "    </tr>\n",
       "  </tbody>\n",
       "</table>\n",
       "</div>"
      ],
      "text/plain": [
       "   Frame     Height       Mid_x       Mid_y  Occlusion  Pedestrian  \\\n",
       "0    0.0  78.666667  333.333333  526.666667        0.0         1.0   \n",
       "1    1.0  79.333333  331.333333  526.666667        0.0         1.0   \n",
       "2    2.0  80.000000  330.000000  528.000000        0.0         1.0   \n",
       "3    3.0  80.000000  328.000000  528.000000        0.0         1.0   \n",
       "4    4.0  80.666667  325.333333  528.000000        0.0         1.0   \n",
       "\n",
       "      Start_x     Start_y          Video      Width  Labeled Past_x Past_y  \\\n",
       "0  310.666667  487.333333  video0001.mp4  45.333333        0      0      0   \n",
       "1  308.000000  487.333333  video0001.mp4  46.666667        0      0      0   \n",
       "2  306.000000  488.000000  video0001.mp4  48.000000        0      0      0   \n",
       "3  303.333333  488.000000  video0001.mp4  49.333333        0      0      0   \n",
       "4  300.666667  488.000000  video0001.mp4  50.000000        0      0      0   \n",
       "\n",
       "  Future_x Future_y  detection_length  \n",
       "0        0        0                 0  \n",
       "1        0        0                 1  \n",
       "2        0        0                 2  \n",
       "3        0        0                 3  \n",
       "4        0        0                 4  "
      ]
     },
     "execution_count": 2,
     "metadata": {},
     "output_type": "execute_result"
    }
   ],
   "source": [
    "df = pd.read_pickle('jaad_location_features.pkl')\n",
    "df.head()"
   ]
  },
  {
   "cell_type": "code",
   "execution_count": 3,
   "metadata": {},
   "outputs": [
    {
     "data": {
      "text/plain": [
       "Index(['Frame', 'Height', 'Mid_x', 'Mid_y', 'Occlusion', 'Pedestrian',\n",
       "       'Start_x', 'Start_y', 'Video', 'Width', 'Labeled', 'Past_x', 'Past_y',\n",
       "       'Future_x', 'Future_y', 'detection_length'],\n",
       "      dtype='object')"
      ]
     },
     "execution_count": 3,
     "metadata": {},
     "output_type": "execute_result"
    }
   ],
   "source": [
    "df.columns"
   ]
  },
  {
   "cell_type": "code",
   "execution_count": 23,
   "metadata": {},
   "outputs": [
    {
     "data": {
      "text/plain": [
       "0"
      ]
     },
     "execution_count": 23,
     "metadata": {},
     "output_type": "execute_result"
    }
   ],
   "source": [
    "c = 0\n",
    "for x in df.Start_y:\n",
    "    try:\n",
    "        if(len(x) > 1):\n",
    "            c += 1 \n",
    "    except TypeError as e:\n",
    "        pass\n",
    "c"
   ]
  },
  {
   "cell_type": "code",
   "execution_count": 17,
   "metadata": {},
   "outputs": [
    {
     "data": {
      "text/plain": [
       "(46065, 16)"
      ]
     },
     "execution_count": 17,
     "metadata": {},
     "output_type": "execute_result"
    }
   ],
   "source": [
    "df.shape"
   ]
  },
  {
   "cell_type": "code",
   "execution_count": 25,
   "metadata": {},
   "outputs": [
    {
     "data": {
      "text/plain": [
       "array([1., 2., 0., 3., 4., 5., 6., 7., 8., 9.])"
      ]
     },
     "execution_count": 25,
     "metadata": {},
     "output_type": "execute_result"
    }
   ],
   "source": [
    "df.Pedestrian.unique()"
   ]
  },
  {
   "cell_type": "code",
   "execution_count": 38,
   "metadata": {},
   "outputs": [
    {
     "data": {
      "text/plain": [
       "0        0.0\n",
       "1        1.0\n",
       "2        2.0\n",
       "3        3.0\n",
       "4        4.0\n",
       "       ...  \n",
       "275    275.0\n",
       "276    276.0\n",
       "277      0.0\n",
       "278      1.0\n",
       "279      2.0\n",
       "Name: Frame, Length: 280, dtype: float64"
      ]
     },
     "execution_count": 38,
     "metadata": {},
     "output_type": "execute_result"
    }
   ],
   "source": [
    "df.Frame[:280]"
   ]
  },
  {
   "cell_type": "code",
   "execution_count": 44,
   "metadata": {},
   "outputs": [],
   "source": [
    "new_df = df[['Frame', 'Pedestrian', 'Mid_x', 'Mid_y', 'Width', 'Height']]"
   ]
  },
  {
   "cell_type": "code",
   "execution_count": 48,
   "metadata": {},
   "outputs": [
    {
     "data": {
      "text/html": [
       "<div>\n",
       "<style scoped>\n",
       "    .dataframe tbody tr th:only-of-type {\n",
       "        vertical-align: middle;\n",
       "    }\n",
       "\n",
       "    .dataframe tbody tr th {\n",
       "        vertical-align: top;\n",
       "    }\n",
       "\n",
       "    .dataframe thead th {\n",
       "        text-align: right;\n",
       "    }\n",
       "</style>\n",
       "<table border=\"1\" class=\"dataframe\">\n",
       "  <thead>\n",
       "    <tr style=\"text-align: right;\">\n",
       "      <th></th>\n",
       "      <th>Frame</th>\n",
       "      <th>Pedestrian</th>\n",
       "      <th>Mid_x</th>\n",
       "      <th>Mid_y</th>\n",
       "      <th>Width</th>\n",
       "      <th>Height</th>\n",
       "    </tr>\n",
       "  </thead>\n",
       "  <tbody>\n",
       "    <tr>\n",
       "      <th>0</th>\n",
       "      <td>0.0</td>\n",
       "      <td>1.0</td>\n",
       "      <td>333.333333</td>\n",
       "      <td>526.666667</td>\n",
       "      <td>45.333333</td>\n",
       "      <td>78.666667</td>\n",
       "    </tr>\n",
       "    <tr>\n",
       "      <th>1</th>\n",
       "      <td>1.0</td>\n",
       "      <td>1.0</td>\n",
       "      <td>331.333333</td>\n",
       "      <td>526.666667</td>\n",
       "      <td>46.666667</td>\n",
       "      <td>79.333333</td>\n",
       "    </tr>\n",
       "    <tr>\n",
       "      <th>2</th>\n",
       "      <td>2.0</td>\n",
       "      <td>1.0</td>\n",
       "      <td>330.000000</td>\n",
       "      <td>528.000000</td>\n",
       "      <td>48.000000</td>\n",
       "      <td>80.000000</td>\n",
       "    </tr>\n",
       "    <tr>\n",
       "      <th>3</th>\n",
       "      <td>3.0</td>\n",
       "      <td>1.0</td>\n",
       "      <td>328.000000</td>\n",
       "      <td>528.000000</td>\n",
       "      <td>49.333333</td>\n",
       "      <td>80.000000</td>\n",
       "    </tr>\n",
       "    <tr>\n",
       "      <th>4</th>\n",
       "      <td>4.0</td>\n",
       "      <td>1.0</td>\n",
       "      <td>325.333333</td>\n",
       "      <td>528.000000</td>\n",
       "      <td>50.000000</td>\n",
       "      <td>80.666667</td>\n",
       "    </tr>\n",
       "  </tbody>\n",
       "</table>\n",
       "</div>"
      ],
      "text/plain": [
       "   Frame  Pedestrian       Mid_x       Mid_y      Width     Height\n",
       "0    0.0         1.0  333.333333  526.666667  45.333333  78.666667\n",
       "1    1.0         1.0  331.333333  526.666667  46.666667  79.333333\n",
       "2    2.0         1.0  330.000000  528.000000  48.000000  80.000000\n",
       "3    3.0         1.0  328.000000  528.000000  49.333333  80.000000\n",
       "4    4.0         1.0  325.333333  528.000000  50.000000  80.666667"
      ]
     },
     "execution_count": 48,
     "metadata": {},
     "output_type": "execute_result"
    }
   ],
   "source": [
    "new_df.head()"
   ]
  },
  {
   "cell_type": "code",
   "execution_count": 49,
   "metadata": {},
   "outputs": [],
   "source": [
    "new_df.to_csv('data.csv')"
   ]
  },
  {
   "cell_type": "code",
   "execution_count": null,
   "metadata": {},
   "outputs": [],
   "source": []
  }
 ],
 "metadata": {
  "kernelspec": {
   "display_name": "Python 3",
   "language": "python",
   "name": "python3"
  },
  "language_info": {
   "codemirror_mode": {
    "name": "ipython",
    "version": 3
   },
   "file_extension": ".py",
   "mimetype": "text/x-python",
   "name": "python",
   "nbconvert_exporter": "python",
   "pygments_lexer": "ipython3",
   "version": "3.6.9"
  }
 },
 "nbformat": 4,
 "nbformat_minor": 4
}
