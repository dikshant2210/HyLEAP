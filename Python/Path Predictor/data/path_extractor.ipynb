{
 "cells": [
  {
   "cell_type": "code",
   "execution_count": 1,
   "metadata": {},
   "outputs": [],
   "source": [
    "import os"
   ]
  },
  {
   "cell_type": "code",
   "execution_count": 2,
   "metadata": {},
   "outputs": [],
   "source": [
    "with open('scenario_1_ped_right.txt', 'r') as file:\n",
    "    lines = file.readlines()"
   ]
  },
  {
   "cell_type": "code",
   "execution_count": 3,
   "metadata": {},
   "outputs": [
    {
     "data": {
      "text/plain": [
       "782040"
      ]
     },
     "execution_count": 3,
     "metadata": {},
     "output_type": "execute_result"
    }
   ],
   "source": [
    "len(lines)"
   ]
  },
  {
   "cell_type": "code",
   "execution_count": 4,
   "metadata": {},
   "outputs": [
    {
     "data": {
      "text/plain": [
       "['Initialized global random generator with seed 9.92468e+08\\n',\n",
       " 'Connect to server ...\\n',\n",
       " '++++++++++++++++++++++ ROUND 0 ++++++++++++++++++++\\n',\n",
       " 'Initial message received\\n',\n",
       " 'Set number of pedestrians in scene = 4\\n',\n",
       " 'Starting...\\n',\n",
       " 'Episode Length: 400\\n',\n",
       " '(-137.211, 22.6223)\\n',\n",
       " '(-137.404, 22.417)\\n',\n",
       " '(-137.611, 22.2264)\\n',\n",
       " '(-137.823, 22.012)\\n',\n",
       " '(-137.979, 21.8496)\\n',\n",
       " '(-138.164, 21.6545)\\n',\n",
       " '(-138.308, 21.5018)\\n',\n",
       " '(-138.465, 21.3671)\\n',\n",
       " '(-138.674, 21.1662)\\n',\n",
       " '(-138.882, 20.9671)\\n',\n",
       " '(-139.088, 20.7698)\\n',\n",
       " '(-139.289, 20.5675)\\n',\n",
       " '(-139.485, 20.3648)\\n',\n",
       " '(-139.677, 20.1681)\\n',\n",
       " '(-139.87, 19.9646)\\n',\n",
       " '(-140.061, 19.7684)\\n',\n",
       " '(-140.223, 19.6295)\\n',\n",
       " '(-140.383, 19.4918)\\n',\n",
       " '(-140.584, 19.2819)\\n',\n",
       " '(-140.787, 19.0794)\\n',\n",
       " '(-140.937, 18.9273)\\n',\n",
       " '(-141.123, 18.7417)\\n',\n",
       " '(-141.266, 18.5859)\\n',\n",
       " '(-141.427, 18.4155)\\n',\n",
       " '(-141.623, 18.2102)\\n',\n",
       " '(-141.77, 18.058)\\n',\n",
       " '(-141.964, 17.8625)\\n',\n",
       " '(-142.119, 17.7179)\\n',\n",
       " '(-142.321, 17.5167)\\n',\n",
       " '(-142.521, 17.3197)\\n',\n",
       " '(-142.717, 17.136)\\n',\n",
       " '(-142.912, 16.9292)\\n',\n",
       " '(-143.058, 16.7784)\\n',\n",
       " '(-143.214, 16.6385)\\n',\n",
       " '(-143.375, 16.5066)\\n',\n",
       " '(-143.53, 16.3608)\\n',\n",
       " '(-143.732, 16.1511)\\n',\n",
       " '(-143.932, 15.9419)\\n',\n",
       " '(-144.128, 15.734)\\n',\n",
       " '(-144.276, 15.5824)\\n',\n",
       " '++++++++++++++++++++++ ROUND 1 ++++++++++++++++++++\\n',\n",
       " 'Initial message received\\n',\n",
       " 'Set number of pedestrians in scene = 4\\n']"
      ]
     },
     "execution_count": 4,
     "metadata": {},
     "output_type": "execute_result"
    }
   ],
   "source": [
    "lines[:50]"
   ]
  },
  {
   "cell_type": "code",
   "execution_count": 5,
   "metadata": {},
   "outputs": [
    {
     "data": {
      "text/plain": [
       "[-137.823, 22.012]"
      ]
     },
     "execution_count": 5,
     "metadata": {},
     "output_type": "execute_result"
    }
   ],
   "source": [
    "l = lines[10].strip().split()\n",
    "l[0] = float(l[0].strip('(').strip(','))\n",
    "l[1] = float(l[1].strip(')').strip(','))\n",
    "l"
   ]
  },
  {
   "cell_type": "code",
   "execution_count": 6,
   "metadata": {},
   "outputs": [],
   "source": [
    "count = 0\n",
    "data = list()\n",
    "temp = list()\n",
    "for line in lines:\n",
    "    if(line[0] == '('):\n",
    "        l = line.strip().split()\n",
    "        l[0] = float(l[0].strip('(').strip(','))\n",
    "        l[1] = float(l[1].strip(')').strip(','))\n",
    "        temp.append(l)\n",
    "    elif(len(temp) != 0):\n",
    "        data.append(temp)\n",
    "        temp = list()\n",
    "data.append(temp)"
   ]
  },
  {
   "cell_type": "code",
   "execution_count": 7,
   "metadata": {},
   "outputs": [
    {
     "data": {
      "text/plain": [
       "15388"
      ]
     },
     "execution_count": 7,
     "metadata": {},
     "output_type": "execute_result"
    }
   ],
   "source": [
    "len(data)"
   ]
  },
  {
   "cell_type": "code",
   "execution_count": 8,
   "metadata": {},
   "outputs": [],
   "source": [
    "import matplotlib.pyplot as plt\n",
    "%matplotlib inline"
   ]
  },
  {
   "cell_type": "code",
   "execution_count": 9,
   "metadata": {},
   "outputs": [
    {
     "data": {
      "text/plain": [
       "[<matplotlib.lines.Line2D at 0x7f84a03464e0>]"
      ]
     },
     "execution_count": 9,
     "metadata": {},
     "output_type": "execute_result"
    },
    {
     "data": {
      "image/png": "[encoded data removed]",
      "text/plain": [
       "<Figure size 432x288 with 1 Axes>"
      ]
     },
     "metadata": {
      "needs_background": "light"
     },
     "output_type": "display_data"
    }
   ],
   "source": [
    "x = list()\n",
    "y = list()\n",
    "for d in data[158]:\n",
    "    x.append(d[0])\n",
    "    y.append(d[1])\n",
    "    \n",
    "plt.plot(x, y, '-')"
   ]
  },
  {
   "cell_type": "code",
   "execution_count": 10,
   "metadata": {},
   "outputs": [],
   "source": [
    "from collections import defaultdict\n",
    "import pandas as pd"
   ]
  },
  {
   "cell_type": "code",
   "execution_count": 16,
   "metadata": {},
   "outputs": [],
   "source": [
    "data_dict = defaultdict(list)\n",
    "for ped in data[5000:7000]:\n",
    "    frame = 0\n",
    "    for d in ped:\n",
    "        data_dict['pedestrian_id'].append(1.0)\n",
    "        data_dict['frame'].append(frame)\n",
    "        data_dict['x'].append(d[0])\n",
    "        data_dict['y'].append(d[1])\n",
    "        frame += 1"
   ]
  },
  {
   "cell_type": "code",
   "execution_count": 17,
   "metadata": {},
   "outputs": [],
   "source": [
    "df = pd.DataFrame(data_dict, columns=['frame', 'pedestrian_id', 'x', 'y'])"
   ]
  },
  {
   "cell_type": "code",
   "execution_count": 18,
   "metadata": {},
   "outputs": [
    {
     "data": {
      "text/html": [
       "<div>\n",
       "<style scoped>\n",
       "    .dataframe tbody tr th:only-of-type {\n",
       "        vertical-align: middle;\n",
       "    }\n",
       "\n",
       "    .dataframe tbody tr th {\n",
       "        vertical-align: top;\n",
       "    }\n",
       "\n",
       "    .dataframe thead th {\n",
       "        text-align: right;\n",
       "    }\n",
       "</style>\n",
       "<table border=\"1\" class=\"dataframe\">\n",
       "  <thead>\n",
       "    <tr style=\"text-align: right;\">\n",
       "      <th></th>\n",
       "      <th>frame</th>\n",
       "      <th>pedestrian_id</th>\n",
       "      <th>x</th>\n",
       "      <th>y</th>\n",
       "    </tr>\n",
       "  </thead>\n",
       "  <tbody>\n",
       "    <tr>\n",
       "      <th>0</th>\n",
       "      <td>0</td>\n",
       "      <td>1.0</td>\n",
       "      <td>-135.829</td>\n",
       "      <td>23.9785</td>\n",
       "    </tr>\n",
       "    <tr>\n",
       "      <th>1</th>\n",
       "      <td>1</td>\n",
       "      <td>1.0</td>\n",
       "      <td>-136.033</td>\n",
       "      <td>23.8258</td>\n",
       "    </tr>\n",
       "    <tr>\n",
       "      <th>2</th>\n",
       "      <td>2</td>\n",
       "      <td>1.0</td>\n",
       "      <td>-136.225</td>\n",
       "      <td>23.6894</td>\n",
       "    </tr>\n",
       "    <tr>\n",
       "      <th>3</th>\n",
       "      <td>3</td>\n",
       "      <td>1.0</td>\n",
       "      <td>-136.418</td>\n",
       "      <td>23.5245</td>\n",
       "    </tr>\n",
       "    <tr>\n",
       "      <th>4</th>\n",
       "      <td>4</td>\n",
       "      <td>1.0</td>\n",
       "      <td>-136.608</td>\n",
       "      <td>23.3648</td>\n",
       "    </tr>\n",
       "  </tbody>\n",
       "</table>\n",
       "</div>"
      ],
      "text/plain": [
       "   frame  pedestrian_id        x        y\n",
       "0      0            1.0 -135.829  23.9785\n",
       "1      1            1.0 -136.033  23.8258\n",
       "2      2            1.0 -136.225  23.6894\n",
       "3      3            1.0 -136.418  23.5245\n",
       "4      4            1.0 -136.608  23.3648"
      ]
     },
     "execution_count": 18,
     "metadata": {},
     "output_type": "execute_result"
    }
   ],
   "source": [
    "df.head()"
   ]
  },
  {
   "cell_type": "code",
   "execution_count": 19,
   "metadata": {},
   "outputs": [
    {
     "data": {
      "text/plain": [
       "(92580, 4)"
      ]
     },
     "execution_count": 19,
     "metadata": {},
     "output_type": "execute_result"
    }
   ],
   "source": [
    "df.shape"
   ]
  },
  {
   "cell_type": "code",
   "execution_count": 20,
   "metadata": {},
   "outputs": [],
   "source": [
    "df.to_csv('scenario_1_ped_right.csv', index=False, header=False)"
   ]
  },
  {
   "cell_type": "code",
   "execution_count": null,
   "metadata": {},
   "outputs": [],
   "source": []
  }
 ],
 "metadata": {
  "kernelspec": {
   "display_name": "Python 3",
   "language": "python",
   "name": "python3"
  },
  "language_info": {
   "codemirror_mode": {
    "name": "ipython",
    "version": 3
   },
   "file_extension": ".py",
   "mimetype": "text/x-python",
   "name": "python",
   "nbconvert_exporter": "python",
   "pygments_lexer": "ipython3",
   "version": "3.6.9"
  }
 },
 "nbformat": 4,
 "nbformat_minor": 4
}
